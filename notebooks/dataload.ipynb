{
 "cells": [
  {
   "cell_type": "markdown",
   "metadata": {},
   "source": [
    "### Load a dataset into a dictionary and organize each year as a nested dictionary\n",
    "\n",
    "<pre>\n",
    "key = country name\n",
    "key = year\n",
    "values = [fixed, mobile, internet users, rate of growth x 3 (fixed / mobile / internet users)]\n",
    "</pre>"
   ]
  },
  {
   "cell_type": "code",
   "execution_count": 103,
   "metadata": {
    "collapsed": false
   },
   "outputs": [],
   "source": [
    "import csv\n",
    "import pycountry\n",
    "\n",
    "# filename - dataset to load\n",
    "# dataColumn - column of dataset to convert to float\n",
    "# position - position within the list to place value\n",
    "def loadDataset(countries, years, filename, dataColumn, position):\n",
    "    f = open(filename)\n",
    "    newCountries = 0\n",
    "    totValues = 0\n",
    "    for row in csv.reader(f, delimiter=','):\n",
    "        try:\n",
    "            key = row[0]\n",
    "            \n",
    "            # lookup country\n",
    "            country = pycountry.countries.lookup(key)             \n",
    "            \n",
    "            name = country.name\n",
    "            year = int(row[1])\n",
    "            value = float(row[dataColumn])\n",
    "            \n",
    "            # exclude very old entries or entries with zero values \n",
    "            if (value > 0 and year>=1990):            \n",
    "                if not (name in countries) :\n",
    "                    # first encounter of this country\n",
    "                    newCountries += 1\n",
    "                    countries[name] = {}          \n",
    "            \n",
    "                if not (year in countries[row[0]]):        \n",
    "                    # first encounter of this year\n",
    "                    # construct list with missing values for this year\n",
    "                    countries[name][year] = [0.0, 0.0, 0.0, 0.0, 0.0, 0.0]\n",
    "\n",
    "                countries[name][year][position] = value\n",
    "\n",
    "                totValues+=1\n",
    "\n",
    "                # keep min/max years\n",
    "                if (year < years['min']):\n",
    "                    years['min'] = year\n",
    "\n",
    "                if (year > years['max']):\n",
    "                    years['max'] = year        \n",
    "\n",
    "        except (IndexError):\n",
    "            pass\n",
    "\n",
    "        except (ValueError):\n",
    "            pass\n",
    "            \n",
    "        except (LookupError):\n",
    "            pass\n",
    "\n",
    "    print(\"Encountered\", newCountries, \"new countries. Loaded\", totValues, \"values - Year min\", years['min'], \"max\", years['max'])"
   ]
  },
  {
   "cell_type": "markdown",
   "metadata": {},
   "source": [
    "Identify missing entries for all countries given min/max years - add missing values (with zero)"
   ]
  },
  {
   "cell_type": "code",
   "execution_count": 104,
   "metadata": {
    "collapsed": false
   },
   "outputs": [],
   "source": [
    "def missingEntries(countries, years):\n",
    "    totMissing = 0\n",
    "    misValues = {}\n",
    "    minYear = years['min']\n",
    "    maxYear = years['max']\n",
    "\n",
    "    #identify missing years\n",
    "    for country, data in countries.items():        \n",
    "        for year in range(minYear, maxYear + 1):\n",
    "            if not year in data:\n",
    "                if not country in misValues:\n",
    "                    misValues[country] = []\n",
    "\n",
    "                misValues[country].append(year)\n",
    "                totMissing += 1\n",
    "\n",
    "    # fill in missing years\n",
    "    for country, data in misValues.items():        \n",
    "        for year in data:\n",
    "            countries[country][year] = [0.0, 0.0, 0.0]\n",
    "\n",
    "    print(totMissing, \"missing years in\", len(misValues), \"countries\")"
   ]
  },
  {
   "cell_type": "markdown",
   "metadata": {},
   "source": [
    "Fill in missing values by averaging out previous/next available values"
   ]
  },
  {
   "cell_type": "code",
   "execution_count": 105,
   "metadata": {
    "collapsed": false
   },
   "outputs": [],
   "source": [
    "def fillMissing(countries, years):\n",
    "    totMissing = 0\n",
    "    totCorrected = 0\n",
    "    for name, value in countries.items():\n",
    "        # iterate through 3 datasets\n",
    "        for dataset in range(0,3):\n",
    "            prevValue = 0\n",
    "            year = years['min']\n",
    "            maxYear = years['max']\n",
    "            while (year < maxYear):\n",
    "                value = countries[name][year][dataset]\n",
    "\n",
    "                if (value == 0 and prevValue == 0):\n",
    "                    # Value is missing but we are at the start of the series, can't do nothing        \n",
    "                    pass\n",
    "\n",
    "                elif (value > 0):\n",
    "                    prevValue = value\n",
    "\n",
    "                else :                \n",
    "                    totMissing += 1\n",
    "\n",
    "                    # identify next value\n",
    "                    nextYear = year + 1\n",
    "                    while (nextYear < maxYear):\n",
    "                        nextValue = countries[name][nextYear][dataset]\n",
    "\n",
    "                        if (nextValue > 0):\n",
    "                            period = nextYear - year + 1                                       \n",
    "                            increase = (nextValue - prevValue) / period                    \n",
    "\n",
    "                            # average out missing values\n",
    "                            for slot in range(year, nextYear):\n",
    "                                missingValue = prevValue + increase                        \n",
    "                                countries[name][slot][dataset] = missingValue\n",
    "                                prevValue = missingValue\n",
    "                                totCorrected += 1\n",
    "\n",
    "                            break\n",
    "\n",
    "                        totMissing += 1\n",
    "                        nextYear += 1\n",
    "\n",
    "                year += 1\n",
    "\n",
    "    print(totMissing, \"missing values -\", totCorrected, \"corrected\")"
   ]
  },
  {
   "cell_type": "markdown",
   "metadata": {},
   "source": [
    "Load actual data - all 3 datasets"
   ]
  },
  {
   "cell_type": "code",
   "execution_count": 106,
   "metadata": {
    "collapsed": false
   },
   "outputs": [
    {
     "name": "stdout",
     "output_type": "stream",
     "text": [
      "Encountered 198 new countries. Loaded 2381 values - Year min 2000 max 2015\n",
      "Encountered 8 new countries. Loaded 3903 values - Year min 1990 max 2015\n",
      "Encountered 4 new countries. Loaded 3013 values - Year min 1990 max 2015\n",
      "1096 missing years in 155 countries\n",
      "706 missing values - 170 corrected\n"
     ]
    }
   ],
   "source": [
    "countries = {}\n",
    "years = {}\n",
    "years['min'] = 3000\n",
    "years['max'] = 0\n",
    "\n",
    "# Start by loading fixed internet broadband subscriptions per 100 inhabitants \n",
    "loadDataset(countries, years, \"dataset/Fixed_Internet_broadband_Subscriptions_per_100_inhabitants_20170325_164431694_export.csv\", 3, 0)\n",
    "\n",
    "# Load 2nd dataset with mobile cellular telephony subscriptions per 100 inhabitants \n",
    "loadDataset(countries, years, \"dataset/Mobile-cellular_telephone_subscriptions_per_100_inhabitants_20170325_164502263.csv\", 2, 1)\n",
    "\n",
    "# Load 3rd data set with proportion of individuals using the Internet per 100 inhabitants\n",
    "loadDataset(countries, years, \"dataset/Proportion_of_individuals_using_the_Internet_20170325_164406087_export.csv\", 3, 2)\n",
    "\n",
    "# identify missing entries and fill in with zeros\n",
    "missingEntries(countries, years)\n",
    "\n",
    "# fill in missing values\n",
    "fillMissing(countries, years)"
   ]
  },
  {
   "cell_type": "code",
   "execution_count": 102,
   "metadata": {
    "collapsed": false
   },
   "outputs": [
    {
     "data": {
      "text/plain": [
       "{1990: [0.0, 0.0, 0.0],\n",
       " 1991: [0.0, 0.0, 0.0],\n",
       " 1992: [0.0, 0.0, 0.0],\n",
       " 1993: [0.0, 0.458787632652948, 0.0],\n",
       " 1994: [0.0, 1.44715350108522, 0.0],\n",
       " 1995: [0.0, 2.55814173585753, 0.0],\n",
       " 1996: [0.0, 4.94498793869107, 0.0],\n",
       " 1997: [0.0, 8.6554536834923, 0.0],\n",
       " 1998: [0.0, 18.7853952591242, 0.0],\n",
       " 1999: [0.0, 35.660380184959, 0.0],\n",
       " 2000: [0.0, 53.9953233323773, 9.138837308],\n",
       " 2001: [0.0, 72.3126477410963, 10.93502581],\n",
       " 2002: [0.0, 84.4726790115104, 14.67],\n",
       " 2003: [0.094962457, 81.0045534117592, 17.8],\n",
       " 2004: [0.466276319, 84.4955126737809, 21.42],\n",
       " 2005: [1.450083239, 92.9245487220107, 24.0],\n",
       " 2006: [4.416913654, 99.3423396704135, 32.25],\n",
       " 2007: [9.193870651, 111.096420636559, 35.88],\n",
       " 2008: [13.59384134, 124.508360188876, 38.2],\n",
       " 2009: [17.25518372, 119.795589336564, 42.4],\n",
       " 2010: [20.25571739, 110.645518509948, 44.4],\n",
       " 2011: [22.14910821, 109.078777855686, 51.64999517],\n",
       " 2012: [24.164029385, 120.096301551898, 55.06999344],\n",
       " 2013: [26.17895056, 116.820647753997, 59.8663],\n",
       " 2014: [28.36049985, 110.264463799122, 63.21],\n",
       " 2015: [30.7302833, 0.0, 66.835]}"
      ]
     },
     "execution_count": 102,
     "metadata": {},
     "output_type": "execute_result"
    }
   ],
   "source": [
    "countries['Greece']"
   ]
  },
  {
   "cell_type": "markdown",
   "metadata": {},
   "source": [
    "Compute yearly growth rate"
   ]
  },
  {
   "cell_type": "code",
   "execution_count": null,
   "metadata": {
    "collapsed": false
   },
   "outputs": [],
   "source": [
    "for country, data in countries.items():\n",
    "    for key, value in data.items():\n",
    "        rate = float(0)\n",
    "        if (key-1 in data):\n",
    "            # compute increase        \n",
    "            thisYear = float(value[0])\n",
    "            prevYear = float(data[key-1][0])\n",
    "\n",
    "            if (prevYear != 0):\n",
    "                rate = (thisYear - prevYear) / prevYear        \n",
    "\n",
    "        # append growth rate\n",
    "        value.append(rate)        "
   ]
  }
 ],
 "metadata": {
  "kernelspec": {
   "display_name": "Python 3",
   "language": "python",
   "name": "python3"
  },
  "language_info": {
   "codemirror_mode": {
    "name": "ipython",
    "version": 3
   },
   "file_extension": ".py",
   "mimetype": "text/x-python",
   "name": "python",
   "nbconvert_exporter": "python",
   "pygments_lexer": "ipython3",
   "version": "3.5.2"
  }
 },
 "nbformat": 4,
 "nbformat_minor": 1
}
