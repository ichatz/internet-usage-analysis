{
 "cells": [
  {
   "cell_type": "code",
   "execution_count": 7,
   "metadata": {
    "collapsed": false
   },
   "outputs": [
    {
     "ename": "FileNotFoundError",
     "evalue": "[Errno 2] No such file or directory: 'dataset/Fixed_Internet_broadband_Subscriptions_per_100_inhabitants_20170325_164431694_export.csv'",
     "output_type": "error",
     "traceback": [
      "\u001b[0;31m---------------------------------------------------------------------------\u001b[0m",
      "\u001b[0;31mFileNotFoundError\u001b[0m                         Traceback (most recent call last)",
      "\u001b[0;32m<ipython-input-7-8a354198dce0>\u001b[0m in \u001b[0;36m<module>\u001b[0;34m()\u001b[0m\n\u001b[1;32m     10\u001b[0m \u001b[0;34m\u001b[0m\u001b[0m\n\u001b[1;32m     11\u001b[0m \u001b[0;31m# Start by loading fixed internet broadband subscriptions per 100 inhabitants\u001b[0m\u001b[0;34m\u001b[0m\u001b[0;34m\u001b[0m\u001b[0m\n\u001b[0;32m---> 12\u001b[0;31m \u001b[0mdataload\u001b[0m\u001b[0;34m.\u001b[0m\u001b[0mloadDataset\u001b[0m\u001b[0;34m(\u001b[0m\u001b[0mcountries\u001b[0m\u001b[0;34m,\u001b[0m \u001b[0myears\u001b[0m\u001b[0;34m,\u001b[0m \u001b[0;34m\"dataset/Fixed_Internet_broadband_Subscriptions_per_100_inhabitants_20170325_164431694_export.csv\"\u001b[0m\u001b[0;34m,\u001b[0m \u001b[0;36m3\u001b[0m\u001b[0;34m,\u001b[0m \u001b[0;36m0\u001b[0m\u001b[0;34m)\u001b[0m\u001b[0;34m\u001b[0m\u001b[0m\n\u001b[0m\u001b[1;32m     13\u001b[0m \u001b[0;34m\u001b[0m\u001b[0m\n\u001b[1;32m     14\u001b[0m \u001b[0;31m# Load 2nd dataset with mobile cellular telephony subscriptions per 100 inhabitants\u001b[0m\u001b[0;34m\u001b[0m\u001b[0;34m\u001b[0m\u001b[0m\n",
      "\u001b[0;32m/home/ichatz/Local/internet-usage-analysis/dataload.py\u001b[0m in \u001b[0;36mloadDataset\u001b[0;34m(countries, years, filename, dataColumn, position)\u001b[0m\n\u001b[1;32m      6\u001b[0m \u001b[0;31m# position - position within the list to place value\u001b[0m\u001b[0;34m\u001b[0m\u001b[0;34m\u001b[0m\u001b[0m\n\u001b[1;32m      7\u001b[0m \u001b[0;32mdef\u001b[0m \u001b[0mloadDataset\u001b[0m\u001b[0;34m(\u001b[0m\u001b[0mcountries\u001b[0m\u001b[0;34m,\u001b[0m \u001b[0myears\u001b[0m\u001b[0;34m,\u001b[0m \u001b[0mfilename\u001b[0m\u001b[0;34m,\u001b[0m \u001b[0mdataColumn\u001b[0m\u001b[0;34m,\u001b[0m \u001b[0mposition\u001b[0m\u001b[0;34m)\u001b[0m\u001b[0;34m:\u001b[0m\u001b[0;34m\u001b[0m\u001b[0m\n\u001b[0;32m----> 8\u001b[0;31m     \u001b[0mf\u001b[0m \u001b[0;34m=\u001b[0m \u001b[0mopen\u001b[0m\u001b[0;34m(\u001b[0m\u001b[0mfilename\u001b[0m\u001b[0;34m)\u001b[0m\u001b[0;34m\u001b[0m\u001b[0m\n\u001b[0m\u001b[1;32m      9\u001b[0m     \u001b[0mnewCountries\u001b[0m \u001b[0;34m=\u001b[0m \u001b[0;36m0\u001b[0m\u001b[0;34m\u001b[0m\u001b[0m\n\u001b[1;32m     10\u001b[0m     \u001b[0mtotValues\u001b[0m \u001b[0;34m=\u001b[0m \u001b[0;36m0\u001b[0m\u001b[0;34m\u001b[0m\u001b[0m\n",
      "\u001b[0;31mFileNotFoundError\u001b[0m: [Errno 2] No such file or directory: 'dataset/Fixed_Internet_broadband_Subscriptions_per_100_inhabitants_20170325_164431694_export.csv'"
     ]
    }
   ],
   "source": [
    "import os, sys\n",
    "sys.path.append(os.path.dirname(os.path.dirname(os.path.abspath('dataload.py'))))\n",
    "\n",
    "import dataload\n",
    "\n",
    "countries = {}\n",
    "years = {}\n",
    "years['min'] = 3000\n",
    "years['max'] = 0\n",
    "\n",
    "# Start by loading fixed internet broadband subscriptions per 100 inhabitants \n",
    "dataload.loadDataset(countries, years, \"dataset/Fixed_Internet_broadband_Subscriptions_per_100_inhabitants_20170325_164431694_export.csv\", 3, 0)\n",
    "\n",
    "# Load 2nd dataset with mobile cellular telephony subscriptions per 100 inhabitants \n",
    "dataload.loadDataset(countries, years, \"dataset/Mobile-cellular_telephone_subscriptions_per_100_inhabitants_20170325_164502263.csv\", 2, 1)\n",
    "\n",
    "# Load 3rd data set with proportion of individuals using the Internet per 100 inhabitants\n",
    "dataload.loadDataset(countries, years, \"dataset/Proportion_of_individuals_using_the_Internet_20170325_164406087_export.csv\", 3, 2)\n",
    "\n",
    "# identify missing entries and fill in with zeros\n",
    "dataload.missingEntries(countries, years)\n",
    "\n",
    "# fill in missing values\n",
    "dataload.fillMissing(countries, years)"
   ]
  },
  {
   "cell_type": "code",
   "execution_count": 11,
   "metadata": {
    "collapsed": true
   },
   "outputs": [],
   "source": [
    "for country, data in countries.items():\n",
    "    for slot in range(0,3):\n",
    "        for year in range(years['min'], years['max']):\n",
    "            if (data[year][slot] > 0):\n",
    "                rate = (data[year + 1][slot] - data[year][slot]) / data[year][slot]\n",
    "                data[year + 1][slot + 3] = rate"
   ]
  },
  {
   "cell_type": "code",
   "execution_count": 9,
   "metadata": {
    "collapsed": false
   },
   "outputs": [],
   "source": [
    "os.path.dirname(os.path.dirname(os.path.abspath('dataset)))"
   ]
  },
  {
   "cell_type": "code",
   "execution_count": 12,
   "metadata": {
    "collapsed": false
   },
   "outputs": [
    {
     "data": {
      "text/plain": [
       "{1990: [0.0, 0.0, 0.0, 0.0, 0.0, 0.0],\n",
       " 1991: [0.0, 0.0, 0.0, 0.0, 0.0, 0.0],\n",
       " 1992: [0.0, 0.0, 0.0, 0.0, 0.0, 0.0],\n",
       " 1993: [0.0, 0.458787632652948, 0.0, 0.0, 0.0, 0.0],\n",
       " 1994: [0.0, 1.44715350108522, 0.0, 0.0, 2.154299283781971, 0.0],\n",
       " 1995: [0.0, 2.55814173585753, 0.0, 0.0, 0.7677058680638789, 0.0],\n",
       " 1996: [0.0, 4.94498793869107, 0.0, 0.0, 0.9330390765206882, 0.0],\n",
       " 1997: [0.0, 8.6554536834923, 0.0, 0.0, 0.7503487957512359, 0.0],\n",
       " 1998: [0.0, 18.7853952591242, 0.0, 0.0, 1.17035362282069, 0.0],\n",
       " 1999: [0.0, 35.660380184959, 0.0, 0.0, 0.8983034263087172, 0.0],\n",
       " 2000: [0.0, 53.9953233323773, 9.138837308, 0.0, 0.5141544496250686, 0.0],\n",
       " 2001: [0.0,\n",
       "  72.3126477410963,\n",
       "  10.93502581,\n",
       "  0.0,\n",
       "  0.3392390910591205,\n",
       "  0.19654453203009153],\n",
       " 2002: [0.0,\n",
       "  84.4726790115104,\n",
       "  14.67,\n",
       "  0.0,\n",
       "  0.16815912084910947,\n",
       "  0.34156061950803923],\n",
       " 2003: [0.094962457,\n",
       "  81.0045534117592,\n",
       "  17.8,\n",
       "  0.0,\n",
       "  -0.041056181008283364,\n",
       "  0.2133605998636674],\n",
       " 2004: [0.466276319,\n",
       "  84.4955126737809,\n",
       "  21.42,\n",
       "  3.9101122036048412,\n",
       "  0.04309583986318129,\n",
       "  0.20337078651685397],\n",
       " 2005: [1.450083239,\n",
       "  92.9245487220107,\n",
       "  24.0,\n",
       "  2.109922550023391,\n",
       "  0.09975720344786249,\n",
       "  0.12044817927170859],\n",
       " 2006: [4.416913654,\n",
       "  99.3423396704135,\n",
       "  32.25,\n",
       "  2.0459724898592526,\n",
       "  0.06906453716124034,\n",
       "  0.34375],\n",
       " 2007: [9.193870651,\n",
       "  111.096420636559,\n",
       "  35.88,\n",
       "  1.0815146890349419,\n",
       "  0.11831894643453976,\n",
       "  0.1125581395348838],\n",
       " 2008: [13.59384134,\n",
       "  124.508360188876,\n",
       "  38.2,\n",
       "  0.47857652734340195,\n",
       "  0.12072341732946405,\n",
       "  0.06465997770345597],\n",
       " 2009: [17.25518372,\n",
       "  119.795589336564,\n",
       "  42.4,\n",
       "  0.2693383193480762,\n",
       "  -0.037851039441551056,\n",
       "  0.10994764397905747],\n",
       " 2010: [20.25571739,\n",
       "  110.645518509948,\n",
       "  44.4,\n",
       "  0.17389172544840334,\n",
       "  -0.07638069879942748,\n",
       "  0.04716981132075472],\n",
       " 2011: [22.14910821,\n",
       "  109.078777855686,\n",
       "  51.64999517,\n",
       "  0.09347438965231339,\n",
       "  -0.01416000101369801,\n",
       "  0.16328817950450447],\n",
       " 2012: [24.164029385,\n",
       "  120.096301551898,\n",
       "  55.06999344,\n",
       "  0.09097075854685156,\n",
       "  0.10100519929539786,\n",
       "  0.06621488073219506],\n",
       " 2013: [26.17895056,\n",
       "  116.820647753997,\n",
       "  59.8663,\n",
       "  0.08338514834991795,\n",
       "  -0.02727522626069772,\n",
       "  0.08709473635993237],\n",
       " 2014: [28.36049985,\n",
       "  110.264463799122,\n",
       "  63.21,\n",
       "  0.0833321903030478,\n",
       "  -0.056121790804320185,\n",
       "  0.055852791971443],\n",
       " 2015: [30.7302833,\n",
       "  0.0,\n",
       "  66.835,\n",
       "  0.08355929770398599,\n",
       "  -1.0,\n",
       "  0.05734852080367019]}"
      ]
     },
     "execution_count": 12,
     "metadata": {},
     "output_type": "execute_result"
    }
   ],
   "source": [
    "countries['Greece']"
   ]
  }
 ],
 "metadata": {
  "kernelspec": {
   "display_name": "Python 3",
   "language": "python",
   "name": "python3"
  },
  "language_info": {
   "codemirror_mode": {
    "name": "ipython",
    "version": 3
   },
   "file_extension": ".py",
   "mimetype": "text/x-python",
   "name": "python",
   "nbconvert_exporter": "python",
   "pygments_lexer": "ipython3",
   "version": "3.5.2"
  }
 },
 "nbformat": 4,
 "nbformat_minor": 1
}
